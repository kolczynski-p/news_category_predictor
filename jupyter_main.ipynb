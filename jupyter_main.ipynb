{
 "cells": [
  {
   "cell_type": "markdown",
   "metadata": {},
   "source": [
    "# Zadanie 1/2"
   ]
  },
  {
   "cell_type": "code",
   "execution_count": 1,
   "metadata": {},
   "outputs": [
    {
     "output_type": "stream",
     "name": "stderr",
     "text": [
      "[nltk_data] Downloading package stopwords to\n[nltk_data]     C:\\Users\\przek\\AppData\\Roaming\\nltk_data...\n[nltk_data]   Package stopwords is already up-to-date!\n"
     ]
    },
    {
     "output_type": "execute_result",
     "data": {
      "text/plain": [
       "         category                                           headline  \\\n",
       "0           CRIME  There Were 2 Mass Shootings In Texas Last Week...   \n",
       "1   ENTERTAINMENT  Will Smith Joins Diplo And Nicky Jam For The 2...   \n",
       "2   ENTERTAINMENT    Hugh Grant Marries For The First Time At Age 57   \n",
       "3   ENTERTAINMENT  Jim Carrey Blasts 'Castrato' Adam Schiff And D...   \n",
       "4   ENTERTAINMENT  Julianna Margulies Uses Donald Trump Poop Bags...   \n",
       "..            ...                                                ...   \n",
       "95       POLITICS  Trump Lawyer Attended DOJ Meeting On Confident...   \n",
       "96       POLITICS  Senate Advances Court Pick Who Said Planned Pa...   \n",
       "97       POLITICS  Rudy Giuliani: Trump Won't Interview With Muel...   \n",
       "98       POLITICS  Kentucky Attorney Running For Judge Dies 1 Day...   \n",
       "99       POLITICS  Chrissy Teigen Taunts Donald Trump Over Twitte...   \n",
       "\n",
       "                          authors  \\\n",
       "0                 Melissa Jeltsen   \n",
       "1                   Andy McDonald   \n",
       "2                      Ron Dicker   \n",
       "3                      Ron Dicker   \n",
       "4                      Ron Dicker   \n",
       "..                            ...   \n",
       "95  Igor Bobic and Ryan J. Reilly   \n",
       "96               Jennifer Bendery   \n",
       "97                      S.V. Date   \n",
       "98                 Nina Golgowski   \n",
       "99                      Lee Moran   \n",
       "\n",
       "                                                 link  \\\n",
       "0   https://www.huffingtonpost.com/entry/texas-ama...   \n",
       "1   https://www.huffingtonpost.com/entry/will-smit...   \n",
       "2   https://www.huffingtonpost.com/entry/hugh-gran...   \n",
       "3   https://www.huffingtonpost.com/entry/jim-carre...   \n",
       "4   https://www.huffingtonpost.com/entry/julianna-...   \n",
       "..                                                ...   \n",
       "95  https://www.huffingtonpost.com/entry/doj-meeti...   \n",
       "96  https://www.huffingtonpost.com/entry/wendy-vit...   \n",
       "97  https://www.huffingtonpost.com/entry/trump-giu...   \n",
       "98  https://www.huffingtonpost.com/entry/judge-can...   \n",
       "99  https://www.huffingtonpost.com/entry/chrissy-t...   \n",
       "\n",
       "                                    short_description        date  \n",
       "0   She left her husband. He killed their children...  2018-05-26  \n",
       "1                            Of course it has a song.  2018-05-26  \n",
       "2   The actor and his longtime girlfriend Anna Ebe...  2018-05-26  \n",
       "3   The actor gives Dems an ass-kicking for not fi...  2018-05-26  \n",
       "4   The \"Dietland\" actress said using the bags is ...  2018-05-26  \n",
       "..                                                ...         ...  \n",
       "95  Emmet Flood, the White House attorney dealing ...  2018-05-24  \n",
       "96  Every Republican on the judiciary committee vo...  2018-05-24  \n",
       "97  The canceled North Korea summit doesn’t mean t...  2018-05-24  \n",
       "98  Danny Alvarez, a married of father of three, w...  2018-05-24  \n",
       "99  Other tweeters, including Mexico's former pres...  2018-05-24  \n",
       "\n",
       "[100 rows x 6 columns]"
      ],
      "text/html": "<div>\n<style scoped>\n    .dataframe tbody tr th:only-of-type {\n        vertical-align: middle;\n    }\n\n    .dataframe tbody tr th {\n        vertical-align: top;\n    }\n\n    .dataframe thead th {\n        text-align: right;\n    }\n</style>\n<table border=\"1\" class=\"dataframe\">\n  <thead>\n    <tr style=\"text-align: right;\">\n      <th></th>\n      <th>category</th>\n      <th>headline</th>\n      <th>authors</th>\n      <th>link</th>\n      <th>short_description</th>\n      <th>date</th>\n    </tr>\n  </thead>\n  <tbody>\n    <tr>\n      <th>0</th>\n      <td>CRIME</td>\n      <td>There Were 2 Mass Shootings In Texas Last Week...</td>\n      <td>Melissa Jeltsen</td>\n      <td>https://www.huffingtonpost.com/entry/texas-ama...</td>\n      <td>She left her husband. He killed their children...</td>\n      <td>2018-05-26</td>\n    </tr>\n    <tr>\n      <th>1</th>\n      <td>ENTERTAINMENT</td>\n      <td>Will Smith Joins Diplo And Nicky Jam For The 2...</td>\n      <td>Andy McDonald</td>\n      <td>https://www.huffingtonpost.com/entry/will-smit...</td>\n      <td>Of course it has a song.</td>\n      <td>2018-05-26</td>\n    </tr>\n    <tr>\n      <th>2</th>\n      <td>ENTERTAINMENT</td>\n      <td>Hugh Grant Marries For The First Time At Age 57</td>\n      <td>Ron Dicker</td>\n      <td>https://www.huffingtonpost.com/entry/hugh-gran...</td>\n      <td>The actor and his longtime girlfriend Anna Ebe...</td>\n      <td>2018-05-26</td>\n    </tr>\n    <tr>\n      <th>3</th>\n      <td>ENTERTAINMENT</td>\n      <td>Jim Carrey Blasts 'Castrato' Adam Schiff And D...</td>\n      <td>Ron Dicker</td>\n      <td>https://www.huffingtonpost.com/entry/jim-carre...</td>\n      <td>The actor gives Dems an ass-kicking for not fi...</td>\n      <td>2018-05-26</td>\n    </tr>\n    <tr>\n      <th>4</th>\n      <td>ENTERTAINMENT</td>\n      <td>Julianna Margulies Uses Donald Trump Poop Bags...</td>\n      <td>Ron Dicker</td>\n      <td>https://www.huffingtonpost.com/entry/julianna-...</td>\n      <td>The \"Dietland\" actress said using the bags is ...</td>\n      <td>2018-05-26</td>\n    </tr>\n    <tr>\n      <th>...</th>\n      <td>...</td>\n      <td>...</td>\n      <td>...</td>\n      <td>...</td>\n      <td>...</td>\n      <td>...</td>\n    </tr>\n    <tr>\n      <th>95</th>\n      <td>POLITICS</td>\n      <td>Trump Lawyer Attended DOJ Meeting On Confident...</td>\n      <td>Igor Bobic and Ryan J. Reilly</td>\n      <td>https://www.huffingtonpost.com/entry/doj-meeti...</td>\n      <td>Emmet Flood, the White House attorney dealing ...</td>\n      <td>2018-05-24</td>\n    </tr>\n    <tr>\n      <th>96</th>\n      <td>POLITICS</td>\n      <td>Senate Advances Court Pick Who Said Planned Pa...</td>\n      <td>Jennifer Bendery</td>\n      <td>https://www.huffingtonpost.com/entry/wendy-vit...</td>\n      <td>Every Republican on the judiciary committee vo...</td>\n      <td>2018-05-24</td>\n    </tr>\n    <tr>\n      <th>97</th>\n      <td>POLITICS</td>\n      <td>Rudy Giuliani: Trump Won't Interview With Muel...</td>\n      <td>S.V. Date</td>\n      <td>https://www.huffingtonpost.com/entry/trump-giu...</td>\n      <td>The canceled North Korea summit doesn’t mean t...</td>\n      <td>2018-05-24</td>\n    </tr>\n    <tr>\n      <th>98</th>\n      <td>POLITICS</td>\n      <td>Kentucky Attorney Running For Judge Dies 1 Day...</td>\n      <td>Nina Golgowski</td>\n      <td>https://www.huffingtonpost.com/entry/judge-can...</td>\n      <td>Danny Alvarez, a married of father of three, w...</td>\n      <td>2018-05-24</td>\n    </tr>\n    <tr>\n      <th>99</th>\n      <td>POLITICS</td>\n      <td>Chrissy Teigen Taunts Donald Trump Over Twitte...</td>\n      <td>Lee Moran</td>\n      <td>https://www.huffingtonpost.com/entry/chrissy-t...</td>\n      <td>Other tweeters, including Mexico's former pres...</td>\n      <td>2018-05-24</td>\n    </tr>\n  </tbody>\n</table>\n<p>100 rows × 6 columns</p>\n</div>"
     },
     "metadata": {},
     "execution_count": 1
    }
   ],
   "source": [
    "import numpy as np\n",
    "import pandas as pd\n",
    "import json\n",
    "\n",
    "from categorizer import Normalizer\n",
    "\n",
    "#Import json data into DF\n",
    "#dataset: https://www.kaggle.com/rmisra/news-category-dataset\n",
    "src = 'News_Category_Dataset_v2.json'\n",
    "normalizer = Normalizer(src)\n",
    "\n",
    "normalizer.load_file_json()\n",
    "\n",
    "\n",
    "\n",
    "normalizer.data.head(100)"
   ]
  },
  {
   "cell_type": "code",
   "execution_count": 2,
   "metadata": {},
   "outputs": [
    {
     "output_type": "stream",
     "name": "stdout",
     "text": [
      "<class 'pandas.core.frame.DataFrame'>\nRangeIndex: 200853 entries, 0 to 200852\nData columns (total 6 columns):\n #   Column             Non-Null Count   Dtype \n---  ------             --------------   ----- \n 0   category           200853 non-null  object\n 1   headline           200853 non-null  object\n 2   authors            200853 non-null  object\n 3   link               200853 non-null  object\n 4   short_description  200853 non-null  object\n 5   date               200853 non-null  object\ndtypes: object(6)\nmemory usage: 9.2+ MB\nNone\n         category                                           headline  \\\n0           CRIME  There Were 2 Mass Shootings In Texas Last Week...   \n1   ENTERTAINMENT  Will Smith Joins Diplo And Nicky Jam For The 2...   \n2   ENTERTAINMENT    Hugh Grant Marries For The First Time At Age 57   \n3   ENTERTAINMENT  Jim Carrey Blasts 'Castrato' Adam Schiff And D...   \n4   ENTERTAINMENT  Julianna Margulies Uses Donald Trump Poop Bags...   \n..            ...                                                ...   \n95       POLITICS  Trump Lawyer Attended DOJ Meeting On Confident...   \n96       POLITICS  Senate Advances Court Pick Who Said Planned Pa...   \n97       POLITICS  Rudy Giuliani: Trump Won't Interview With Muel...   \n98       POLITICS  Kentucky Attorney Running For Judge Dies 1 Day...   \n99       POLITICS  Chrissy Teigen Taunts Donald Trump Over Twitte...   \n\n                          authors  \\\n0                 Melissa Jeltsen   \n1                   Andy McDonald   \n2                      Ron Dicker   \n3                      Ron Dicker   \n4                      Ron Dicker   \n..                            ...   \n95  Igor Bobic and Ryan J. Reilly   \n96               Jennifer Bendery   \n97                      S.V. Date   \n98                 Nina Golgowski   \n99                      Lee Moran   \n\n                                                 link  \\\n0   https://www.huffingtonpost.com/entry/texas-ama...   \n1   https://www.huffingtonpost.com/entry/will-smit...   \n2   https://www.huffingtonpost.com/entry/hugh-gran...   \n3   https://www.huffingtonpost.com/entry/jim-carre...   \n4   https://www.huffingtonpost.com/entry/julianna-...   \n..                                                ...   \n95  https://www.huffingtonpost.com/entry/doj-meeti...   \n96  https://www.huffingtonpost.com/entry/wendy-vit...   \n97  https://www.huffingtonpost.com/entry/trump-giu...   \n98  https://www.huffingtonpost.com/entry/judge-can...   \n99  https://www.huffingtonpost.com/entry/chrissy-t...   \n\n                                    short_description        date  \n0   She left her husband. He killed their children...  2018-05-26  \n1                            Of course it has a song.  2018-05-26  \n2   The actor and his longtime girlfriend Anna Ebe...  2018-05-26  \n3   The actor gives Dems an ass-kicking for not fi...  2018-05-26  \n4   The \"Dietland\" actress said using the bags is ...  2018-05-26  \n..                                                ...         ...  \n95  Emmet Flood, the White House attorney dealing ...  2018-05-24  \n96  Every Republican on the judiciary committee vo...  2018-05-24  \n97  The canceled North Korea summit doesn’t mean t...  2018-05-24  \n98  Danny Alvarez, a married of father of three, w...  2018-05-24  \n99  Other tweeters, including Mexico's former pres...  2018-05-24  \n\n[100 rows x 6 columns]\n"
     ]
    }
   ],
   "source": [
    "normalizer.describe()"
   ]
  },
  {
   "cell_type": "code",
   "execution_count": 3,
   "metadata": {},
   "outputs": [
    {
     "output_type": "execute_result",
     "data": {
      "text/plain": [
       "         category                                           headline  \\\n",
       "0           CRIME  There Were 2 Mass Shootings In Texas Last Week...   \n",
       "1   ENTERTAINMENT  Will Smith Joins Diplo And Nicky Jam For The 2...   \n",
       "2   ENTERTAINMENT    Hugh Grant Marries For The First Time At Age 57   \n",
       "3   ENTERTAINMENT  Jim Carrey Blasts 'Castrato' Adam Schiff And D...   \n",
       "4   ENTERTAINMENT  Julianna Margulies Uses Donald Trump Poop Bags...   \n",
       "..            ...                                                ...   \n",
       "95       POLITICS  Trump Lawyer Attended DOJ Meeting On Confident...   \n",
       "96       POLITICS  Senate Advances Court Pick Who Said Planned Pa...   \n",
       "97       POLITICS  Rudy Giuliani: Trump Won't Interview With Muel...   \n",
       "98       POLITICS  Kentucky Attorney Running For Judge Dies 1 Day...   \n",
       "99       POLITICS  Chrissy Teigen Taunts Donald Trump Over Twitte...   \n",
       "\n",
       "                          authors  \\\n",
       "0                 Melissa Jeltsen   \n",
       "1                   Andy McDonald   \n",
       "2                      Ron Dicker   \n",
       "3                      Ron Dicker   \n",
       "4                      Ron Dicker   \n",
       "..                            ...   \n",
       "95  Igor Bobic and Ryan J. Reilly   \n",
       "96               Jennifer Bendery   \n",
       "97                      S.V. Date   \n",
       "98                 Nina Golgowski   \n",
       "99                      Lee Moran   \n",
       "\n",
       "                                                 link  \\\n",
       "0   https://www.huffingtonpost.com/entry/texas-ama...   \n",
       "1   https://www.huffingtonpost.com/entry/will-smit...   \n",
       "2   https://www.huffingtonpost.com/entry/hugh-gran...   \n",
       "3   https://www.huffingtonpost.com/entry/jim-carre...   \n",
       "4   https://www.huffingtonpost.com/entry/julianna-...   \n",
       "..                                                ...   \n",
       "95  https://www.huffingtonpost.com/entry/doj-meeti...   \n",
       "96  https://www.huffingtonpost.com/entry/wendy-vit...   \n",
       "97  https://www.huffingtonpost.com/entry/trump-giu...   \n",
       "98  https://www.huffingtonpost.com/entry/judge-can...   \n",
       "99  https://www.huffingtonpost.com/entry/chrissy-t...   \n",
       "\n",
       "                                    short_description        date  \\\n",
       "0   She left her husband. He killed their children...  2018-05-26   \n",
       "1                            Of course it has a song.  2018-05-26   \n",
       "2   The actor and his longtime girlfriend Anna Ebe...  2018-05-26   \n",
       "3   The actor gives Dems an ass-kicking for not fi...  2018-05-26   \n",
       "4   The \"Dietland\" actress said using the bags is ...  2018-05-26   \n",
       "..                                                ...         ...   \n",
       "95  Emmet Flood, the White House attorney dealing ...  2018-05-24   \n",
       "96  Every Republican on the judiciary committee vo...  2018-05-24   \n",
       "97  The canceled North Korea summit doesn’t mean t...  2018-05-24   \n",
       "98  Danny Alvarez, a married of father of three, w...  2018-05-24   \n",
       "99  Other tweeters, including Mexico's former pres...  2018-05-24   \n",
       "\n",
       "                                                 text  \n",
       "0   There Were 2 Mass Shootings In Texas Last Week...  \n",
       "1   Will Smith Joins Diplo And Nicky Jam For The 2...  \n",
       "2   Hugh Grant Marries For The First Time At Age 5...  \n",
       "3   Jim Carrey Blasts 'Castrato' Adam Schiff And D...  \n",
       "4   Julianna Margulies Uses Donald Trump Poop Bags...  \n",
       "..                                                ...  \n",
       "95  Trump Lawyer Attended DOJ Meeting On Confident...  \n",
       "96  Senate Advances Court Pick Who Said Planned Pa...  \n",
       "97  Rudy Giuliani: Trump Won't Interview With Muel...  \n",
       "98  Kentucky Attorney Running For Judge Dies 1 Day...  \n",
       "99  Chrissy Teigen Taunts Donald Trump Over Twitte...  \n",
       "\n",
       "[100 rows x 7 columns]"
      ],
      "text/html": "<div>\n<style scoped>\n    .dataframe tbody tr th:only-of-type {\n        vertical-align: middle;\n    }\n\n    .dataframe tbody tr th {\n        vertical-align: top;\n    }\n\n    .dataframe thead th {\n        text-align: right;\n    }\n</style>\n<table border=\"1\" class=\"dataframe\">\n  <thead>\n    <tr style=\"text-align: right;\">\n      <th></th>\n      <th>category</th>\n      <th>headline</th>\n      <th>authors</th>\n      <th>link</th>\n      <th>short_description</th>\n      <th>date</th>\n      <th>text</th>\n    </tr>\n  </thead>\n  <tbody>\n    <tr>\n      <th>0</th>\n      <td>CRIME</td>\n      <td>There Were 2 Mass Shootings In Texas Last Week...</td>\n      <td>Melissa Jeltsen</td>\n      <td>https://www.huffingtonpost.com/entry/texas-ama...</td>\n      <td>She left her husband. He killed their children...</td>\n      <td>2018-05-26</td>\n      <td>There Were 2 Mass Shootings In Texas Last Week...</td>\n    </tr>\n    <tr>\n      <th>1</th>\n      <td>ENTERTAINMENT</td>\n      <td>Will Smith Joins Diplo And Nicky Jam For The 2...</td>\n      <td>Andy McDonald</td>\n      <td>https://www.huffingtonpost.com/entry/will-smit...</td>\n      <td>Of course it has a song.</td>\n      <td>2018-05-26</td>\n      <td>Will Smith Joins Diplo And Nicky Jam For The 2...</td>\n    </tr>\n    <tr>\n      <th>2</th>\n      <td>ENTERTAINMENT</td>\n      <td>Hugh Grant Marries For The First Time At Age 57</td>\n      <td>Ron Dicker</td>\n      <td>https://www.huffingtonpost.com/entry/hugh-gran...</td>\n      <td>The actor and his longtime girlfriend Anna Ebe...</td>\n      <td>2018-05-26</td>\n      <td>Hugh Grant Marries For The First Time At Age 5...</td>\n    </tr>\n    <tr>\n      <th>3</th>\n      <td>ENTERTAINMENT</td>\n      <td>Jim Carrey Blasts 'Castrato' Adam Schiff And D...</td>\n      <td>Ron Dicker</td>\n      <td>https://www.huffingtonpost.com/entry/jim-carre...</td>\n      <td>The actor gives Dems an ass-kicking for not fi...</td>\n      <td>2018-05-26</td>\n      <td>Jim Carrey Blasts 'Castrato' Adam Schiff And D...</td>\n    </tr>\n    <tr>\n      <th>4</th>\n      <td>ENTERTAINMENT</td>\n      <td>Julianna Margulies Uses Donald Trump Poop Bags...</td>\n      <td>Ron Dicker</td>\n      <td>https://www.huffingtonpost.com/entry/julianna-...</td>\n      <td>The \"Dietland\" actress said using the bags is ...</td>\n      <td>2018-05-26</td>\n      <td>Julianna Margulies Uses Donald Trump Poop Bags...</td>\n    </tr>\n    <tr>\n      <th>...</th>\n      <td>...</td>\n      <td>...</td>\n      <td>...</td>\n      <td>...</td>\n      <td>...</td>\n      <td>...</td>\n      <td>...</td>\n    </tr>\n    <tr>\n      <th>95</th>\n      <td>POLITICS</td>\n      <td>Trump Lawyer Attended DOJ Meeting On Confident...</td>\n      <td>Igor Bobic and Ryan J. Reilly</td>\n      <td>https://www.huffingtonpost.com/entry/doj-meeti...</td>\n      <td>Emmet Flood, the White House attorney dealing ...</td>\n      <td>2018-05-24</td>\n      <td>Trump Lawyer Attended DOJ Meeting On Confident...</td>\n    </tr>\n    <tr>\n      <th>96</th>\n      <td>POLITICS</td>\n      <td>Senate Advances Court Pick Who Said Planned Pa...</td>\n      <td>Jennifer Bendery</td>\n      <td>https://www.huffingtonpost.com/entry/wendy-vit...</td>\n      <td>Every Republican on the judiciary committee vo...</td>\n      <td>2018-05-24</td>\n      <td>Senate Advances Court Pick Who Said Planned Pa...</td>\n    </tr>\n    <tr>\n      <th>97</th>\n      <td>POLITICS</td>\n      <td>Rudy Giuliani: Trump Won't Interview With Muel...</td>\n      <td>S.V. Date</td>\n      <td>https://www.huffingtonpost.com/entry/trump-giu...</td>\n      <td>The canceled North Korea summit doesn’t mean t...</td>\n      <td>2018-05-24</td>\n      <td>Rudy Giuliani: Trump Won't Interview With Muel...</td>\n    </tr>\n    <tr>\n      <th>98</th>\n      <td>POLITICS</td>\n      <td>Kentucky Attorney Running For Judge Dies 1 Day...</td>\n      <td>Nina Golgowski</td>\n      <td>https://www.huffingtonpost.com/entry/judge-can...</td>\n      <td>Danny Alvarez, a married of father of three, w...</td>\n      <td>2018-05-24</td>\n      <td>Kentucky Attorney Running For Judge Dies 1 Day...</td>\n    </tr>\n    <tr>\n      <th>99</th>\n      <td>POLITICS</td>\n      <td>Chrissy Teigen Taunts Donald Trump Over Twitte...</td>\n      <td>Lee Moran</td>\n      <td>https://www.huffingtonpost.com/entry/chrissy-t...</td>\n      <td>Other tweeters, including Mexico's former pres...</td>\n      <td>2018-05-24</td>\n      <td>Chrissy Teigen Taunts Donald Trump Over Twitte...</td>\n    </tr>\n  </tbody>\n</table>\n<p>100 rows × 7 columns</p>\n</div>"
     },
     "metadata": {},
     "execution_count": 3
    }
   ],
   "source": [
    "normalizer.concat_cols('text',['headline','short_description'])\n",
    "\n",
    "normalizer.data.head(100)\n",
    "\n",
    "\n",
    "\n"
   ]
  },
  {
   "cell_type": "code",
   "execution_count": 4,
   "metadata": {},
   "outputs": [
    {
     "output_type": "execute_result",
     "data": {
      "text/plain": [
       "         category                                               text\n",
       "0           CRIME  There Were 2 Mass Shootings In Texas Last Week...\n",
       "1   ENTERTAINMENT  Will Smith Joins Diplo And Nicky Jam For The 2...\n",
       "2   ENTERTAINMENT  Hugh Grant Marries For The First Time At Age 5...\n",
       "3   ENTERTAINMENT  Jim Carrey Blasts 'Castrato' Adam Schiff And D...\n",
       "4   ENTERTAINMENT  Julianna Margulies Uses Donald Trump Poop Bags...\n",
       "..            ...                                                ...\n",
       "95       POLITICS  Trump Lawyer Attended DOJ Meeting On Confident...\n",
       "96       POLITICS  Senate Advances Court Pick Who Said Planned Pa...\n",
       "97       POLITICS  Rudy Giuliani: Trump Won't Interview With Muel...\n",
       "98       POLITICS  Kentucky Attorney Running For Judge Dies 1 Day...\n",
       "99       POLITICS  Chrissy Teigen Taunts Donald Trump Over Twitte...\n",
       "\n",
       "[100 rows x 2 columns]"
      ],
      "text/html": "<div>\n<style scoped>\n    .dataframe tbody tr th:only-of-type {\n        vertical-align: middle;\n    }\n\n    .dataframe tbody tr th {\n        vertical-align: top;\n    }\n\n    .dataframe thead th {\n        text-align: right;\n    }\n</style>\n<table border=\"1\" class=\"dataframe\">\n  <thead>\n    <tr style=\"text-align: right;\">\n      <th></th>\n      <th>category</th>\n      <th>text</th>\n    </tr>\n  </thead>\n  <tbody>\n    <tr>\n      <th>0</th>\n      <td>CRIME</td>\n      <td>There Were 2 Mass Shootings In Texas Last Week...</td>\n    </tr>\n    <tr>\n      <th>1</th>\n      <td>ENTERTAINMENT</td>\n      <td>Will Smith Joins Diplo And Nicky Jam For The 2...</td>\n    </tr>\n    <tr>\n      <th>2</th>\n      <td>ENTERTAINMENT</td>\n      <td>Hugh Grant Marries For The First Time At Age 5...</td>\n    </tr>\n    <tr>\n      <th>3</th>\n      <td>ENTERTAINMENT</td>\n      <td>Jim Carrey Blasts 'Castrato' Adam Schiff And D...</td>\n    </tr>\n    <tr>\n      <th>4</th>\n      <td>ENTERTAINMENT</td>\n      <td>Julianna Margulies Uses Donald Trump Poop Bags...</td>\n    </tr>\n    <tr>\n      <th>...</th>\n      <td>...</td>\n      <td>...</td>\n    </tr>\n    <tr>\n      <th>95</th>\n      <td>POLITICS</td>\n      <td>Trump Lawyer Attended DOJ Meeting On Confident...</td>\n    </tr>\n    <tr>\n      <th>96</th>\n      <td>POLITICS</td>\n      <td>Senate Advances Court Pick Who Said Planned Pa...</td>\n    </tr>\n    <tr>\n      <th>97</th>\n      <td>POLITICS</td>\n      <td>Rudy Giuliani: Trump Won't Interview With Muel...</td>\n    </tr>\n    <tr>\n      <th>98</th>\n      <td>POLITICS</td>\n      <td>Kentucky Attorney Running For Judge Dies 1 Day...</td>\n    </tr>\n    <tr>\n      <th>99</th>\n      <td>POLITICS</td>\n      <td>Chrissy Teigen Taunts Donald Trump Over Twitte...</td>\n    </tr>\n  </tbody>\n</table>\n<p>100 rows × 2 columns</p>\n</div>"
     },
     "metadata": {},
     "execution_count": 4
    }
   ],
   "source": [
    "normalizer.drop_cols(['date', 'link', 'short_description', 'headline', 'authors'])\n",
    "\n",
    "normalizer.data.head(100)"
   ]
  },
  {
   "cell_type": "code",
   "execution_count": 5,
   "metadata": {},
   "outputs": [
    {
     "output_type": "execute_result",
     "data": {
      "text/plain": [
       "         category                                               text\n",
       "0           CRIME  2 Mass Shootings Texas Last Week, 1 TV left hu...\n",
       "1   ENTERTAINMENT  Smith Joins Diplo Nicky Jam 2018 World Cup's O...\n",
       "2   ENTERTAINMENT  Hugh Grant Marries First Time Age 57 actor lon...\n",
       "3   ENTERTAINMENT  Jim Carrey Blasts 'Castrato' Adam Schiff Democ...\n",
       "4   ENTERTAINMENT  Julianna Margulies Uses Donald Trump Poop Bags...\n",
       "..            ...                                                ...\n",
       "95       POLITICS  Trump Lawyer Attended DOJ Meeting Confidential...\n",
       "96       POLITICS  Senate Advances Court Pick Said Planned Parent...\n",
       "97       POLITICS  Rudy Giuliani: Trump Interview Mueller Get ‘Sp...\n",
       "98       POLITICS  Kentucky Attorney Running Judge Dies 1 Day Pri...\n",
       "99       POLITICS  Chrissy Teigen Taunts Donald Trump Twitter Blo...\n",
       "\n",
       "[100 rows x 2 columns]"
      ],
      "text/html": "<div>\n<style scoped>\n    .dataframe tbody tr th:only-of-type {\n        vertical-align: middle;\n    }\n\n    .dataframe tbody tr th {\n        vertical-align: top;\n    }\n\n    .dataframe thead th {\n        text-align: right;\n    }\n</style>\n<table border=\"1\" class=\"dataframe\">\n  <thead>\n    <tr style=\"text-align: right;\">\n      <th></th>\n      <th>category</th>\n      <th>text</th>\n    </tr>\n  </thead>\n  <tbody>\n    <tr>\n      <th>0</th>\n      <td>CRIME</td>\n      <td>2 Mass Shootings Texas Last Week, 1 TV left hu...</td>\n    </tr>\n    <tr>\n      <th>1</th>\n      <td>ENTERTAINMENT</td>\n      <td>Smith Joins Diplo Nicky Jam 2018 World Cup's O...</td>\n    </tr>\n    <tr>\n      <th>2</th>\n      <td>ENTERTAINMENT</td>\n      <td>Hugh Grant Marries First Time Age 57 actor lon...</td>\n    </tr>\n    <tr>\n      <th>3</th>\n      <td>ENTERTAINMENT</td>\n      <td>Jim Carrey Blasts 'Castrato' Adam Schiff Democ...</td>\n    </tr>\n    <tr>\n      <th>4</th>\n      <td>ENTERTAINMENT</td>\n      <td>Julianna Margulies Uses Donald Trump Poop Bags...</td>\n    </tr>\n    <tr>\n      <th>...</th>\n      <td>...</td>\n      <td>...</td>\n    </tr>\n    <tr>\n      <th>95</th>\n      <td>POLITICS</td>\n      <td>Trump Lawyer Attended DOJ Meeting Confidential...</td>\n    </tr>\n    <tr>\n      <th>96</th>\n      <td>POLITICS</td>\n      <td>Senate Advances Court Pick Said Planned Parent...</td>\n    </tr>\n    <tr>\n      <th>97</th>\n      <td>POLITICS</td>\n      <td>Rudy Giuliani: Trump Interview Mueller Get ‘Sp...</td>\n    </tr>\n    <tr>\n      <th>98</th>\n      <td>POLITICS</td>\n      <td>Kentucky Attorney Running Judge Dies 1 Day Pri...</td>\n    </tr>\n    <tr>\n      <th>99</th>\n      <td>POLITICS</td>\n      <td>Chrissy Teigen Taunts Donald Trump Twitter Blo...</td>\n    </tr>\n  </tbody>\n</table>\n<p>100 rows × 2 columns</p>\n</div>"
     },
     "metadata": {},
     "execution_count": 5
    }
   ],
   "source": [
    "normalizer.drop_stopwords(['text'])\n",
    "\n",
    "normalizer.data.head(100)\n",
    "\n",
    "\n",
    "\n",
    "\n"
   ]
  },
  {
   "cell_type": "code",
   "execution_count": 6,
   "metadata": {},
   "outputs": [
    {
     "output_type": "execute_result",
     "data": {
      "text/plain": [
       "         category                                               text\n",
       "0           crime  2 mass shootings texas last week, 1 tv left hu...\n",
       "1   entertainment  smith joins diplo nicky jam 2018 world cup's o...\n",
       "2   entertainment  hugh grant marries first time age 57 actor lon...\n",
       "3   entertainment  jim carrey blasts 'castrato' adam schiff democ...\n",
       "4   entertainment  julianna margulies uses donald trump poop bags...\n",
       "..            ...                                                ...\n",
       "95       politics  trump lawyer attended doj meeting confidential...\n",
       "96       politics  senate advances court pick said planned parent...\n",
       "97       politics  rudy giuliani: trump interview mueller get ‘sp...\n",
       "98       politics  kentucky attorney running judge dies 1 day pri...\n",
       "99       politics  chrissy teigen taunts donald trump twitter blo...\n",
       "\n",
       "[100 rows x 2 columns]"
      ],
      "text/html": "<div>\n<style scoped>\n    .dataframe tbody tr th:only-of-type {\n        vertical-align: middle;\n    }\n\n    .dataframe tbody tr th {\n        vertical-align: top;\n    }\n\n    .dataframe thead th {\n        text-align: right;\n    }\n</style>\n<table border=\"1\" class=\"dataframe\">\n  <thead>\n    <tr style=\"text-align: right;\">\n      <th></th>\n      <th>category</th>\n      <th>text</th>\n    </tr>\n  </thead>\n  <tbody>\n    <tr>\n      <th>0</th>\n      <td>crime</td>\n      <td>2 mass shootings texas last week, 1 tv left hu...</td>\n    </tr>\n    <tr>\n      <th>1</th>\n      <td>entertainment</td>\n      <td>smith joins diplo nicky jam 2018 world cup's o...</td>\n    </tr>\n    <tr>\n      <th>2</th>\n      <td>entertainment</td>\n      <td>hugh grant marries first time age 57 actor lon...</td>\n    </tr>\n    <tr>\n      <th>3</th>\n      <td>entertainment</td>\n      <td>jim carrey blasts 'castrato' adam schiff democ...</td>\n    </tr>\n    <tr>\n      <th>4</th>\n      <td>entertainment</td>\n      <td>julianna margulies uses donald trump poop bags...</td>\n    </tr>\n    <tr>\n      <th>...</th>\n      <td>...</td>\n      <td>...</td>\n    </tr>\n    <tr>\n      <th>95</th>\n      <td>politics</td>\n      <td>trump lawyer attended doj meeting confidential...</td>\n    </tr>\n    <tr>\n      <th>96</th>\n      <td>politics</td>\n      <td>senate advances court pick said planned parent...</td>\n    </tr>\n    <tr>\n      <th>97</th>\n      <td>politics</td>\n      <td>rudy giuliani: trump interview mueller get ‘sp...</td>\n    </tr>\n    <tr>\n      <th>98</th>\n      <td>politics</td>\n      <td>kentucky attorney running judge dies 1 day pri...</td>\n    </tr>\n    <tr>\n      <th>99</th>\n      <td>politics</td>\n      <td>chrissy teigen taunts donald trump twitter blo...</td>\n    </tr>\n  </tbody>\n</table>\n<p>100 rows × 2 columns</p>\n</div>"
     },
     "metadata": {},
     "execution_count": 6
    }
   ],
   "source": [
    "normalizer.to_lower(['text','category'])\n",
    "\n",
    "normalizer.data.head(100)"
   ]
  },
  {
   "cell_type": "code",
   "execution_count": null,
   "metadata": {},
   "outputs": [],
   "source": []
  }
 ],
 "metadata": {
  "kernelspec": {
   "name": "python3",
   "display_name": "Python 3.8.5 64-bit ('base': conda)"
  },
  "language_info": {
   "codemirror_mode": {
    "name": "ipython",
    "version": 3
   },
   "file_extension": ".py",
   "mimetype": "text/x-python",
   "name": "python",
   "nbconvert_exporter": "python",
   "pygments_lexer": "ipython3",
   "version": "3.8.8"
  },
  "interpreter": {
   "hash": "2762aaf24dde7498bcc245859b1bda140b0bac313f5b9f1816145886768c5e60"
  }
 },
 "nbformat": 4,
 "nbformat_minor": 4
}